{
 "cells": [
  {
   "cell_type": "code",
   "execution_count": 32,
   "metadata": {},
   "outputs": [],
   "source": [
    "import torch\n",
    "from torch import nn\n",
    "from torch.utils.data import DataLoader\n",
    "from torchvision import datasets\n",
    "from torchvision.transforms import ToTensor\n",
    "import numpy as np\n",
    "from random import randint\n",
    "\n",
    "import matplotlib.pyplot as plt"
   ]
  },
  {
   "cell_type": "code",
   "execution_count": 3,
   "metadata": {},
   "outputs": [
    {
     "name": "stdout",
     "output_type": "stream",
     "text": [
      "Using cuda device\n",
      "Device name: Quadro P2000\n"
     ]
    }
   ],
   "source": [
    "# Get cpu, gpu or mps device for training.\n",
    "device = (\n",
    "    \"cuda\"\n",
    "    if torch.cuda.is_available()\n",
    "    else \"mps\"\n",
    "    if torch.backends.mps.is_available()\n",
    "    else \"cpu\"\n",
    ")\n",
    "\n",
    "print(f\"Using {device} device\")\n",
    "print(f\"Device name: {torch.cuda.get_device_name()}\")\n"
   ]
  },
  {
   "cell_type": "code",
   "execution_count": 4,
   "metadata": {},
   "outputs": [],
   "source": [
    "DATA_PATH = \"./mnist/\""
   ]
  },
  {
   "cell_type": "code",
   "execution_count": 7,
   "metadata": {},
   "outputs": [],
   "source": [
    "# Download training data from open datasets.\n",
    "training_data = datasets.MNIST(\n",
    "    root=DATA_PATH,\n",
    "    train=True,\n",
    "    download=False,\n",
    "    transform=ToTensor(),\n",
    ")\n",
    "\n",
    "# Download test data from open datasets.\n",
    "test_data = datasets.MNIST(\n",
    "    root=DATA_PATH,\n",
    "    train=False,\n",
    "    download=False,\n",
    "    transform=ToTensor(),\n",
    ")"
   ]
  },
  {
   "cell_type": "code",
   "execution_count": 8,
   "metadata": {},
   "outputs": [
    {
     "name": "stdout",
     "output_type": "stream",
     "text": [
      "Shape of X [N, C, H, W]: torch.Size([64, 1, 28, 28])\n",
      "Shape of y: torch.Size([64]) torch.int64\n"
     ]
    }
   ],
   "source": [
    "batch_size = 64\n",
    "\n",
    "# Create data loaders.\n",
    "train_dataloader = DataLoader(training_data, batch_size=batch_size)\n",
    "test_dataloader = DataLoader(test_data, batch_size=batch_size)\n",
    "\n",
    "for X, y in test_dataloader:\n",
    "    print(f\"Shape of X [N, C, H, W]: {X.shape}\")\n",
    "    print(f\"Shape of y: {y.shape} {y.dtype}\")\n",
    "    break"
   ]
  },
  {
   "cell_type": "code",
   "execution_count": 9,
   "metadata": {},
   "outputs": [
    {
     "name": "stdout",
     "output_type": "stream",
     "text": [
      "Using cuda device\n",
      "NeuralNetwork(\n",
      "  (flatten): Flatten(start_dim=1, end_dim=-1)\n",
      "  (linear_relu_stack): Sequential(\n",
      "    (0): Linear(in_features=784, out_features=512, bias=True)\n",
      "    (1): ReLU()\n",
      "    (2): Linear(in_features=512, out_features=512, bias=True)\n",
      "    (3): ReLU()\n",
      "    (4): Linear(in_features=512, out_features=10, bias=True)\n",
      "  )\n",
      ")\n"
     ]
    }
   ],
   "source": [
    "# Get cpu, gpu or mps device for training.\n",
    "device = (\n",
    "    \"cuda\"\n",
    "    if torch.cuda.is_available()\n",
    "    else \"mps\"\n",
    "    if torch.backends.mps.is_available()\n",
    "    else \"cpu\"\n",
    ")\n",
    "print(f\"Using {device} device\")\n",
    "\n",
    "# Define model\n",
    "class NeuralNetwork(nn.Module):\n",
    "    def __init__(self):\n",
    "        super().__init__()\n",
    "        self.flatten = nn.Flatten()\n",
    "        self.linear_relu_stack = nn.Sequential(\n",
    "            nn.Linear(28*28, 512),\n",
    "            nn.ReLU(),\n",
    "            nn.Linear(512, 512),\n",
    "            nn.ReLU(),\n",
    "            nn.Linear(512, 10)\n",
    "        )\n",
    "\n",
    "    def forward(self, x):\n",
    "        x = self.flatten(x)\n",
    "        logits = self.linear_relu_stack(x)\n",
    "        return logits\n",
    "\n",
    "model = NeuralNetwork().to(device)\n",
    "print(model)"
   ]
  },
  {
   "cell_type": "code",
   "execution_count": 11,
   "metadata": {},
   "outputs": [],
   "source": [
    "loss_fn = nn.CrossEntropyLoss()\n",
    "optimizer = torch.optim.Adam(model.parameters(), lr=1e-3)"
   ]
  },
  {
   "cell_type": "code",
   "execution_count": 12,
   "metadata": {},
   "outputs": [],
   "source": [
    "def train(dataloader, model, loss_fn, optimizer):\n",
    "    size = len(dataloader.dataset)\n",
    "    model.train()\n",
    "    for batch, (X, y) in enumerate(dataloader):\n",
    "        X, y = X.to(device), y.to(device)\n",
    "\n",
    "        # Compute prediction error\n",
    "        pred = model(X)\n",
    "        loss = loss_fn(pred, y)\n",
    "\n",
    "        # Backpropagation\n",
    "        loss.backward()\n",
    "        optimizer.step()\n",
    "        optimizer.zero_grad()\n",
    "\n",
    "        if batch % 100 == 0:\n",
    "            loss, current = loss.item(), (batch + 1) * len(X)\n",
    "            print(f\"loss: {loss:>7f}  [{current:>5d}/{size:>5d}]\")"
   ]
  },
  {
   "cell_type": "code",
   "execution_count": 13,
   "metadata": {},
   "outputs": [],
   "source": [
    "def test(dataloader, model, loss_fn):\n",
    "    size = len(dataloader.dataset)\n",
    "    num_batches = len(dataloader)\n",
    "    model.eval()\n",
    "    test_loss, correct = 0, 0\n",
    "    with torch.no_grad():\n",
    "        for X, y in dataloader:\n",
    "            X, y = X.to(device), y.to(device)\n",
    "            pred = model(X)\n",
    "            test_loss += loss_fn(pred, y).item()\n",
    "            correct += (pred.argmax(1) == y).type(torch.float).sum().item()\n",
    "    test_loss /= num_batches\n",
    "    correct /= size\n",
    "    print(f\"Test Error: \\n Accuracy: {(100*correct):>0.1f}%, Avg loss: {test_loss:>8f} \\n\")"
   ]
  },
  {
   "cell_type": "code",
   "execution_count": 14,
   "metadata": {},
   "outputs": [
    {
     "name": "stdout",
     "output_type": "stream",
     "text": [
      "Epoch 1\n",
      "-------------------------------\n",
      "loss: 2.306205  [   64/60000]\n",
      "loss: 0.269158  [ 6464/60000]\n",
      "loss: 0.197609  [12864/60000]\n",
      "loss: 0.257545  [19264/60000]\n",
      "loss: 0.134046  [25664/60000]\n",
      "loss: 0.300597  [32064/60000]\n",
      "loss: 0.128403  [38464/60000]\n",
      "loss: 0.225895  [44864/60000]\n",
      "loss: 0.239996  [51264/60000]\n",
      "loss: 0.156986  [57664/60000]\n",
      "Test Error: \n",
      " Accuracy: 95.2%, Avg loss: 0.150466 \n",
      "\n",
      "Epoch 2\n",
      "-------------------------------\n",
      "loss: 0.082593  [   64/60000]\n",
      "loss: 0.090038  [ 6464/60000]\n",
      "loss: 0.128183  [12864/60000]\n",
      "loss: 0.148941  [19264/60000]\n",
      "loss: 0.048679  [25664/60000]\n",
      "loss: 0.074563  [32064/60000]\n",
      "loss: 0.047576  [38464/60000]\n",
      "loss: 0.143167  [44864/60000]\n",
      "loss: 0.117211  [51264/60000]\n",
      "loss: 0.101119  [57664/60000]\n",
      "Test Error: \n",
      " Accuracy: 96.0%, Avg loss: 0.124694 \n",
      "\n",
      "Epoch 3\n",
      "-------------------------------\n",
      "loss: 0.079390  [   64/60000]\n",
      "loss: 0.062266  [ 6464/60000]\n",
      "loss: 0.047752  [12864/60000]\n",
      "loss: 0.089220  [19264/60000]\n",
      "loss: 0.060692  [25664/60000]\n",
      "loss: 0.065961  [32064/60000]\n",
      "loss: 0.019552  [38464/60000]\n",
      "loss: 0.069120  [44864/60000]\n",
      "loss: 0.096316  [51264/60000]\n",
      "loss: 0.104057  [57664/60000]\n",
      "Test Error: \n",
      " Accuracy: 96.4%, Avg loss: 0.124843 \n",
      "\n",
      "Epoch 4\n",
      "-------------------------------\n",
      "loss: 0.056414  [   64/60000]\n",
      "loss: 0.073001  [ 6464/60000]\n",
      "loss: 0.079887  [12864/60000]\n",
      "loss: 0.093740  [19264/60000]\n",
      "loss: 0.033471  [25664/60000]\n",
      "loss: 0.033352  [32064/60000]\n",
      "loss: 0.038597  [38464/60000]\n",
      "loss: 0.035408  [44864/60000]\n",
      "loss: 0.077040  [51264/60000]\n",
      "loss: 0.049732  [57664/60000]\n",
      "Test Error: \n",
      " Accuracy: 94.9%, Avg loss: 0.219846 \n",
      "\n",
      "Epoch 5\n",
      "-------------------------------\n",
      "loss: 0.038974  [   64/60000]\n",
      "loss: 0.059657  [ 6464/60000]\n",
      "loss: 0.045602  [12864/60000]\n",
      "loss: 0.047049  [19264/60000]\n",
      "loss: 0.025836  [25664/60000]\n",
      "loss: 0.014894  [32064/60000]\n",
      "loss: 0.004050  [38464/60000]\n",
      "loss: 0.006827  [44864/60000]\n",
      "loss: 0.061355  [51264/60000]\n",
      "loss: 0.009342  [57664/60000]\n",
      "Test Error: \n",
      " Accuracy: 95.8%, Avg loss: 0.175925 \n",
      "\n",
      "Epoch 6\n",
      "-------------------------------\n",
      "loss: 0.133829  [   64/60000]\n",
      "loss: 0.033948  [ 6464/60000]\n",
      "loss: 0.033474  [12864/60000]\n",
      "loss: 0.015193  [19264/60000]\n",
      "loss: 0.030550  [25664/60000]\n",
      "loss: 0.004410  [32064/60000]\n",
      "loss: 0.028405  [38464/60000]\n",
      "loss: 0.008581  [44864/60000]\n",
      "loss: 0.058650  [51264/60000]\n",
      "loss: 0.004597  [57664/60000]\n",
      "Test Error: \n",
      " Accuracy: 97.0%, Avg loss: 0.119881 \n",
      "\n",
      "Epoch 7\n",
      "-------------------------------\n",
      "loss: 0.035257  [   64/60000]\n",
      "loss: 0.004372  [ 6464/60000]\n",
      "loss: 0.074463  [12864/60000]\n",
      "loss: 0.051171  [19264/60000]\n",
      "loss: 0.019851  [25664/60000]\n",
      "loss: 0.004623  [32064/60000]\n",
      "loss: 0.007390  [38464/60000]\n",
      "loss: 0.008147  [44864/60000]\n",
      "loss: 0.080342  [51264/60000]\n",
      "loss: 0.005273  [57664/60000]\n",
      "Test Error: \n",
      " Accuracy: 97.9%, Avg loss: 0.095921 \n",
      "\n",
      "Epoch 8\n",
      "-------------------------------\n",
      "loss: 0.011035  [   64/60000]\n",
      "loss: 0.002967  [ 6464/60000]\n",
      "loss: 0.005244  [12864/60000]\n",
      "loss: 0.063498  [19264/60000]\n",
      "loss: 0.015662  [25664/60000]\n",
      "loss: 0.002271  [32064/60000]\n",
      "loss: 0.002703  [38464/60000]\n",
      "loss: 0.011131  [44864/60000]\n",
      "loss: 0.012043  [51264/60000]\n",
      "loss: 0.004144  [57664/60000]\n",
      "Test Error: \n",
      " Accuracy: 97.8%, Avg loss: 0.099281 \n",
      "\n",
      "Epoch 9\n",
      "-------------------------------\n",
      "loss: 0.002686  [   64/60000]\n",
      "loss: 0.054894  [ 6464/60000]\n",
      "loss: 0.008493  [12864/60000]\n",
      "loss: 0.000324  [19264/60000]\n",
      "loss: 0.059173  [25664/60000]\n",
      "loss: 0.008354  [32064/60000]\n",
      "loss: 0.008472  [38464/60000]\n",
      "loss: 0.005566  [44864/60000]\n",
      "loss: 0.003387  [51264/60000]\n",
      "loss: 0.001008  [57664/60000]\n",
      "Test Error: \n",
      " Accuracy: 98.2%, Avg loss: 0.084358 \n",
      "\n",
      "Epoch 10\n",
      "-------------------------------\n",
      "loss: 0.023917  [   64/60000]\n",
      "loss: 0.001137  [ 6464/60000]\n",
      "loss: 0.014626  [12864/60000]\n",
      "loss: 0.002164  [19264/60000]\n",
      "loss: 0.013012  [25664/60000]\n",
      "loss: 0.044614  [32064/60000]\n",
      "loss: 0.067659  [38464/60000]\n",
      "loss: 0.002516  [44864/60000]\n",
      "loss: 0.144280  [51264/60000]\n",
      "loss: 0.049928  [57664/60000]\n",
      "Test Error: \n",
      " Accuracy: 97.2%, Avg loss: 0.125620 \n",
      "\n",
      "Done!\n"
     ]
    }
   ],
   "source": [
    "epochs = 10\n",
    "for t in range(epochs):\n",
    "    print(f\"Epoch {t+1}\\n-------------------------------\")\n",
    "    train(train_dataloader, model, loss_fn, optimizer)\n",
    "    test(test_dataloader, model, loss_fn)\n",
    "print(\"Done!\")"
   ]
  },
  {
   "cell_type": "code",
   "execution_count": 45,
   "metadata": {},
   "outputs": [
    {
     "data": {
      "image/png": "[encoded data removed]",
      "text/plain": [
       "<Figure size 640x480 with 1 Axes>"
      ]
     },
     "metadata": {},
     "output_type": "display_data"
    },
    {
     "name": "stdout",
     "output_type": "stream",
     "text": [
      "Predict: 2\n"
     ]
    }
   ],
   "source": [
    "random_index = randint(0, 9999)\n",
    "\n",
    "x = test_data[random_index][0].to(device=device)\n",
    "\n",
    "plt.imshow(x.squeeze().cpu())\n",
    "plt.show()\n",
    "\n",
    "pred = model(x).argmax()\n",
    "print(f\"Predict: {pred}\")"
   ]
  },
  {
   "cell_type": "code",
   "execution_count": null,
   "metadata": {},
   "outputs": [],
   "source": []
  },
  {
   "cell_type": "code",
   "execution_count": null,
   "metadata": {},
   "outputs": [],
   "source": []
  },
  {
   "cell_type": "code",
   "execution_count": null,
   "metadata": {},
   "outputs": [],
   "source": []
  }
 ],
 "metadata": {
  "kernelspec": {
   "display_name": ".venv",
   "language": "python",
   "name": "python3"
  },
  "language_info": {
   "codemirror_mode": {
    "name": "ipython",
    "version": 3
   },
   "file_extension": ".py",
   "mimetype": "text/x-python",
   "name": "python",
   "nbconvert_exporter": "python",
   "pygments_lexer": "ipython3",
   "version": "3.9.13"
  }
 },
 "nbformat": 4,
 "nbformat_minor": 2
}
