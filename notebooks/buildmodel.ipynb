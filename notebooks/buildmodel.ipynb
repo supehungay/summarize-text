{
 "cells": [
  {
   "cell_type": "code",
   "execution_count": 1,
   "metadata": {},
   "outputs": [],
   "source": [
    "import torch\n",
    "import torch.nn as nn\n",
    "import torch.optim as optim\n",
    "from torch.nn import Transformer, TransformerEncoder, TransformerEncoderLayer, TransformerDecoder, TransformerDecoderLayer"
   ]
  },
  {
   "cell_type": "code",
   "execution_count": 4,
   "metadata": {},
   "outputs": [
    {
     "name": "stderr",
     "output_type": "stream",
     "text": [
      "d:\\NLPandDeeplearning\\final\\.venv\\lib\\site-packages\\tqdm\\auto.py:21: TqdmWarning: IProgress not found. Please update jupyter and ipywidgets. See https://ipywidgets.readthedocs.io/en/stable/user_install.html\n",
      "  from .autonotebook import tqdm as notebook_tqdm\n"
     ]
    }
   ],
   "source": [
    "# from transformers import (\n",
    "#     AdamW,\n",
    "#     T5ForConditionalGeneration,\n",
    "#     T5TokenizerFast as T5Tokenizer\n",
    "# ) # từ hugging face\n",
    "\n",
    "from transformers import AutoModel, AutoTokenizer, AdamW\n",
    "\n",
    "# tqdm: Thư viện cung cấp thanh tiến trình để theo dõi tiến độ của vòng lặp.\n",
    "from tqdm.auto import tqdm \n",
    "\n",
    "# đơn giản hóa và tự động hóa nhiệm vụ như huấn luyện mô hình, quản lý checkpoint, logging, và nhiều công việc khác liên quan đến deep learning.\n",
    "import pytorch_lightning as pl\n",
    "from pytorch_lightning.callbacks import ModelCheckpoint # lưu lại các checkpoint của mô hình trong suốt quá trình huấn luyện\n",
    "from pytorch_lightning.loggers import TensorBoardLogger # ghi log các thông số quan trọng trong quá trình huấn luyện và theo dõi bằng TensorBoard\n",
    "\n",
    "\n",
    "import json\n",
    "import pandas as pd\n",
    "import numpy as np\n",
    "import torch\n",
    "import transformers\n",
    "from pathlib import Path # làm việc với đường dẫn\n",
    "from torch.utils.data import Dataset, DataLoader\n",
    "\n",
    "#from pytorch_lightning.callbacks import ModelCheckpoint\n",
    "#from pytorch_lightning.loggers import TensorBoardLogger\n",
    "from sklearn.model_selection import train_test_split\n",
    "from termcolor import colored\n",
    "import textwrap\n",
    "\n",
    "from random import randint\n"
   ]
  },
  {
   "cell_type": "code",
   "execution_count": 5,
   "metadata": {},
   "outputs": [],
   "source": [
    "import seaborn as sns\n",
    "from pylab import rcParams\n",
    "import matplotlib.pyplot as plt\n",
    "from matplotlib import rc"
   ]
  },
  {
   "cell_type": "code",
   "execution_count": 6,
   "metadata": {},
   "outputs": [],
   "source": [
    "%matplotlib inline\n",
    "%config InlineBackend.figure_format = 'retina'\n",
    "sns.set(style='whitegrid', palette='muted', font_scale = 1.2)\n",
    "rcParams['figure.figsize'] = 16,10"
   ]
  },
  {
   "cell_type": "code",
   "execution_count": 7,
   "metadata": {},
   "outputs": [
    {
     "name": "stderr",
     "output_type": "stream",
     "text": [
      "Seed set to 42\n"
     ]
    },
    {
     "data": {
      "text/plain": [
       "42"
      ]
     },
     "execution_count": 7,
     "metadata": {},
     "output_type": "execute_result"
    }
   ],
   "source": [
    "pl.seed_everything(42)"
   ]
  },
  {
   "cell_type": "code",
   "execution_count": 8,
   "metadata": {},
   "outputs": [],
   "source": [
    "read_data = pd.read_csv('../reference/textsummarizationvietnamese1/Dataset_articles_NoID-1.csv', encoding = \"utf-8\")"
   ]
  },
  {
   "cell_type": "code",
   "execution_count": 9,
   "metadata": {},
   "outputs": [],
   "source": [
    "data = read_data[[\"Summary\", \"Contents\"]]\n",
    "data.columns = [\"summary\", \"text\"]"
   ]
  },
  {
   "cell_type": "code",
   "execution_count": 10,
   "metadata": {},
   "outputs": [
    {
     "data": {
      "text/html": [
       "<div>\n",
       "<style scoped>\n",
       "    .dataframe tbody tr th:only-of-type {\n",
       "        vertical-align: middle;\n",
       "    }\n",
       "\n",
       "    .dataframe tbody tr th {\n",
       "        vertical-align: top;\n",
       "    }\n",
       "\n",
       "    .dataframe thead th {\n",
       "        text-align: right;\n",
       "    }\n",
       "</style>\n",
       "<table border=\"1\" class=\"dataframe\">\n",
       "  <thead>\n",
       "    <tr style=\"text-align: right;\">\n",
       "      <th></th>\n",
       "      <th>summary</th>\n",
       "      <th>text</th>\n",
       "    </tr>\n",
       "  </thead>\n",
       "  <tbody>\n",
       "    <tr>\n",
       "      <th>49995</th>\n",
       "      <td>Sau khi “chiến dịch” giành lại vỉa hè ở Hà Nội...</td>\n",
       "      <td>Xử lý vỉa hè như “ném đá, ao bèo” Ghi nhận của...</td>\n",
       "    </tr>\n",
       "    <tr>\n",
       "      <th>49996</th>\n",
       "      <td>Do hát karaoke quá to, người đàn ông bị một ng...</td>\n",
       "      <td>Vụ án mạng xảy ra vào khoảng 11h45 ngày 28.2, ...</td>\n",
       "    </tr>\n",
       "    <tr>\n",
       "      <th>49997</th>\n",
       "      <td>Ngày 28.2, Công an huyện Bố Trạch (tỉnh Quảng ...</td>\n",
       "      <td>Theo đó, cơ quan công an đã ra quyết định khởi...</td>\n",
       "    </tr>\n",
       "    <tr>\n",
       "      <th>49998</th>\n",
       "      <td>Ngày 28.2, TAND TP.Biên Hòa (Đồng Nai) đã mở p...</td>\n",
       "      <td>Sau khi khai mạc phiên tòa, luật sư bào chữa c...</td>\n",
       "    </tr>\n",
       "    <tr>\n",
       "      <th>49999</th>\n",
       "      <td>Chỉ vì ghen tuông, Tha đã ném xăng đốt nhà vợ ...</td>\n",
       "      <td>Ngày 28.2, Cơ quan CSĐT Công an tỉnh Trà Vinh ...</td>\n",
       "    </tr>\n",
       "  </tbody>\n",
       "</table>\n",
       "</div>"
      ],
      "text/plain": [
       "                                                 summary  \\\n",
       "49995  Sau khi “chiến dịch” giành lại vỉa hè ở Hà Nội...   \n",
       "49996  Do hát karaoke quá to, người đàn ông bị một ng...   \n",
       "49997  Ngày 28.2, Công an huyện Bố Trạch (tỉnh Quảng ...   \n",
       "49998  Ngày 28.2, TAND TP.Biên Hòa (Đồng Nai) đã mở p...   \n",
       "49999  Chỉ vì ghen tuông, Tha đã ném xăng đốt nhà vợ ...   \n",
       "\n",
       "                                                    text  \n",
       "49995  Xử lý vỉa hè như “ném đá, ao bèo” Ghi nhận của...  \n",
       "49996  Vụ án mạng xảy ra vào khoảng 11h45 ngày 28.2, ...  \n",
       "49997  Theo đó, cơ quan công an đã ra quyết định khởi...  \n",
       "49998  Sau khi khai mạc phiên tòa, luật sư bào chữa c...  \n",
       "49999  Ngày 28.2, Cơ quan CSĐT Công an tỉnh Trà Vinh ...  "
      ]
     },
     "execution_count": 10,
     "metadata": {},
     "output_type": "execute_result"
    }
   ],
   "source": [
    "data = data.dropna()\n",
    "data.tail()"
   ]
  },
  {
   "cell_type": "code",
   "execution_count": 11,
   "metadata": {},
   "outputs": [
    {
     "name": "stdout",
     "output_type": "stream",
     "text": [
      "41905:\n",
      "text: Thông tin ban đầu, sáng sớm 16.9, một số người dân đi tập thể dục về phát hiện một nam thanh niên nằm bất động bên ngoài ngôi nhà ở ngõ 30 phố Nghĩa Đô. Theo đó, vào thời gian trên, một nam thanh niên (chưa rõ danh tính) đã dùng một vật nhọn đâm tử vong 2 nữ sinh (chưa rõ danh tính).     2 nữ sinh này đang theo học một trường cao đẳng trên địa bàn quận Cầu Giấy, Hà Nội.  Sau đó, nam thanh niên tự dùng dao đâm vào bụng và nhảy từ tầng cao của ngôi nhà xuống đất, bị thương nặng. Hiện, người này đang được cấp cứu tại Bệnh viện E.      Theo thông tin từ Bệnh viện E, bệnh nhân  nam giới đã tử vong. Hiện lực lượng Công an đang khẩn trương tiến hành khám nghiệm hiện trường, điều tra nguyên nhân vụ án mạng.\n",
      "summary: Vụ án mạng xảy ra sáng ngày 16.9 tại ngõ 30 phố Nghĩa Đô (quận Cầu Giấy, Hà Nội), khiến 2 nữ sinh tử vong tại chỗ.\n"
     ]
    }
   ],
   "source": [
    "idx = randint(0, data.shape[0])\n",
    "summary = data['summary'].iloc[idx]\n",
    "text = data['text'].iloc[idx]\n",
    "print(f\"{idx}:\")\n",
    "print(f\"text: {text}\")\n",
    "print(f\"summary: {summary}\")\n"
   ]
  },
  {
   "cell_type": "markdown",
   "metadata": {},
   "source": [
    "# split train - test"
   ]
  },
  {
   "cell_type": "code",
   "execution_count": 12,
   "metadata": {},
   "outputs": [
    {
     "data": {
      "text/plain": [
       "((49321, 2), (50, 2))"
      ]
     },
     "execution_count": 12,
     "metadata": {},
     "output_type": "execute_result"
    }
   ],
   "source": [
    "train_data, test_data = train_test_split(data, test_size = 0.001)\n",
    "train_data.shape, test_data.shape"
   ]
  },
  {
   "cell_type": "code",
   "execution_count": 21,
   "metadata": {},
   "outputs": [],
   "source": [
    "class NewsSummaryDataset(Dataset):\n",
    "\tdef __init__(\n",
    "\t\tself,\n",
    "\t\tdata: pd.DataFrame,\n",
    "\t\ttokenizer: AutoTokenizer,\n",
    "\t\ttext_max_token_len: int = 512,\n",
    "\t\tsummary_max_token_len: int = 128\n",
    "\t):\n",
    "\t\tself.data = data\n",
    "\t\tself.tokenizer = tokenizer\n",
    "\t\tself.text_max_token_len = text_max_token_len\n",
    "\t\tself.summary_max_token_len = summary_max_token_len\n",
    "\t\t\n",
    "\tdef __len__(self):\n",
    "\t\treturn len(self.data)\n",
    "\n",
    "\tdef __getitem__(self, index : int):\n",
    "\t\tdata_row = self.data.iloc[index]\n",
    "\t\t# xử lí các kí tự \\xa0\n",
    "\t\tdata_row[\"text\"] = data_row[\"text\"].replace(\"\\xa0\", \" \")\n",
    "\t\tdata_row[\"summary\"] = data_row[\"summary\"].replace(\"\\xa0\", \" \")\n",
    "\t\t# print(data_row)\n",
    "\n",
    "\t\ttext_encoding = tokenizer(\n",
    "\t\t\tdata_row[\"text\"],\n",
    "\t\t\tmax_length = self.text_max_token_len,\n",
    "\t\t\tpadding = \"max_length\",\n",
    "\t\t\ttruncation = True, # cắt nếu độ dài vượt quá padding\n",
    "\t\t\treturn_attention_mask = True, # tokenizer sẽ tạo ra một tensor biểu diễn attention mask\n",
    "\t\t\tadd_special_tokens = True, #  tokenizer sẽ thêm các token đặc biệt vào đầu và cuối chuỗi\n",
    "\t\t\treturn_tensors = \"pt\" # trả về tensor trong pytorch\n",
    "\t\t)\n",
    "  \n",
    "\t\tsummary_encoding = tokenizer(\n",
    "\t\t\tdata_row[\"summary\"],\n",
    "\t\t\tmax_length = self.summary_max_token_len,\n",
    "\t\t\tpadding = \"max_length\", # padding = 'longest': lấy độ dài dài nhất; \"max_length\": lấy độ dài theo \"max_length\"\n",
    "\t\t\ttruncation = True,\n",
    "\t\t\treturn_attention_mask = True,\n",
    "\t\t\tadd_special_tokens = True,\n",
    "\t\t\treturn_tensors = \"pt\"\n",
    "\t\t)\n",
    "\t\tlabels = summary_encoding[\"input_ids\"]\n",
    "\t\tlabels[labels == 0] = -100 # label==0: là những padding thêm vào và gán nó bằng -100\n",
    "\n",
    "\t\treturn dict(\n",
    "\t\t\ttext = data_row[\"text\"],\n",
    "\t\t\tsummary = data_row[\"summary\"],\n",
    "\t\t\ttext_input_ids = text_encoding[\"input_ids\"].flatten(),\n",
    "\t\t\ttext_attention_mask = text_encoding[\"attention_mask\"].flatten(),\n",
    "\t\t\tlabels = labels.flatten(),\n",
    "\t\t\tlabels_attention_mask = summary_encoding[\"attention_mask\"].flatten()\n",
    "\t\t)"
   ]
  },
  {
   "cell_type": "code",
   "execution_count": 22,
   "metadata": {},
   "outputs": [],
   "source": [
    "class NewsSummaryDataModule(pl.LightningDataModule):\n",
    "\tdef __init__(\n",
    "\t\tself,\n",
    "\t\ttrain_df: pd.DataFrame,\n",
    "\t\ttest_df: pd.DataFrame,\n",
    "\t\ttokenizer: AutoTokenizer,\n",
    "\t\tbatch_size: int = 8 ,\n",
    "\t\ttext_max_token_len: int =512,\n",
    "\t\tsummary_max_token_len: int = 128\n",
    "\t):\n",
    "\t\tsuper().__init__()\n",
    "\t\tself.train_df = train_df\n",
    "\t\tself.test_df = test_df\n",
    "\n",
    "\t\tself.batch_size = batch_size\n",
    "\t\tself.tokenizer = tokenizer\n",
    "\n",
    "\t\tself.text_max_token_len = text_max_token_len\n",
    "\t\tself.summary_max_token_len = summary_max_token_len\n",
    "\t   \n",
    "\tdef setup(self, stage = None):\n",
    "\t\tself.train_dataset = NewsSummaryDataset(\n",
    "\t\t\tself.train_df,\n",
    "\t\t\tself.tokenizer,\n",
    "\t\t\tself.text_max_token_len,\n",
    "\t\t\tself.summary_max_token_len\n",
    "\t\t)\n",
    "\t\tself.test_dataset = NewsSummaryDataset(\n",
    "\t\t\tself.test_df,\n",
    "\t\t\tself.tokenizer,\n",
    "\t\t\tself.text_max_token_len,\n",
    "\t\t\tself.summary_max_token_len\n",
    "\t\t)\n",
    "\t  \n",
    "\tdef train_dataloader(self):\n",
    "\t\treturn DataLoader(\n",
    "\t\t\tself.train_dataset,\n",
    "\t\t\tbatch_size = self.batch_size,\n",
    "\t\t\tshuffle = True,\n",
    "\t\t\tnum_workers = 4 # số luồng CPU\n",
    "\t\t)\n",
    "\t  \n",
    "\tdef val_dataloader(self):\n",
    "\t\treturn DataLoader(\n",
    "\t\t\tself.test_dataset,\n",
    "\t\t\tbatch_size = self.batch_size,\n",
    "\t\t\tshuffle = True,\n",
    "\t\t\tnum_workers = 4  \n",
    "\t\t)"
   ]
  },
  {
   "cell_type": "code",
   "execution_count": 23,
   "metadata": {},
   "outputs": [],
   "source": [
    "MODEL_NAME = \"vinai/phobert-base\"\n",
    "\n",
    "tokenizer = AutoTokenizer.from_pretrained(MODEL_NAME)\n",
    "# phobert = AutoModel.from_pretrained(MODEL_NAME)"
   ]
  },
  {
   "cell_type": "code",
   "execution_count": 80,
   "metadata": {},
   "outputs": [],
   "source": [
    "text_token_counts, summary_token_counts = [],[]\n",
    "\n",
    "for _, row in train_data.iterrows():\n",
    "    # print(tokenizer.encode(row['text']))\n",
    "    # break\n",
    "   \n",
    "\t# print(row['text'])\n",
    "\ttext_token_count = len(tokenizer.encode(row[\"text\"]))\n",
    "\ttext_token_counts.append(text_token_count)\n",
    "\n",
    "\tsummary_token_count = len(tokenizer.encode(row[\"summary\"]))\n",
    "\tsummary_token_counts.append(summary_token_count)"
   ]
  },
  {
   "cell_type": "code",
   "execution_count": 81,
   "metadata": {},
   "outputs": [
    {
     "data": {
      "text/plain": [
       "Text(0.5, 1.0, 'summary text token counts')"
      ]
     },
     "execution_count": 81,
     "metadata": {},
     "output_type": "execute_result"
    },
    {
     "data": {
      "image/png": "[encoded data removed]",
      "text/plain": [
       "<Figure size 1600x1000 with 2 Axes>"
      ]
     },
     "metadata": {
      "image/png": {
       "height": 842,
       "width": 1337
      }
     },
     "output_type": "display_data"
    }
   ],
   "source": [
    "fig, (ax1, ax2) = plt.subplots(1,2)\n",
    "\n",
    "sns.histplot(text_token_counts, ax = ax1)\n",
    "ax1.set_title(\"full text token counts\")\n",
    "\n",
    "sns.histplot(summary_token_counts, ax= ax2)\n",
    "ax2.set_title(\"summary text token counts\")"
   ]
  },
  {
   "cell_type": "code",
   "execution_count": 24,
   "metadata": {},
   "outputs": [],
   "source": [
    "num_epochs = 3\n",
    "BATCH_SIZE = 8\n",
    "\n",
    "data_module = NewsSummaryDataModule(train_data, test_data, tokenizer, batch_size = BATCH_SIZE)"
   ]
  },
  {
   "cell_type": "code",
   "execution_count": 25,
   "metadata": {},
   "outputs": [],
   "source": [
    "class NewsSummaryModel(pl.LightningModule):\n",
    "\tdef __init__(self):\n",
    "\t\tsuper().__init__()\n",
    "\t\tself.model =  AutoModel.from_pretrained(MODEL_NAME, return_dict = True)\n",
    "\t\t\n",
    "\tdef forward(self, input_ids, attention_mask, decoder_attention_mask, labels = None):\n",
    "\t\toutput = self.model(\n",
    "\t\t\tinput_ids,\n",
    "\t\t\tattention_mask = attention_mask,\n",
    "\t\t\tlabels = labels,\n",
    "\t\t\tdecoder_attention_mask = decoder_attention_mask\n",
    "\t\t)\n",
    "\n",
    "\t\treturn output.loss, output.logits\n",
    "\n",
    "\tdef training_step(self, batch, batch_idx):\n",
    "\t\tinput_ids = batch[\"text_input_ids\"]\n",
    "\t\tattention_mask = batch[\"text_attention_mask\"]\n",
    "\t\tlabels = batch[\"labels\"]\n",
    "\t\tlabels_attention_mask = batch[\"labels_attention_mask\"]\n",
    "\n",
    "\t\tloss, outputs = self(\n",
    "\t\t\tinput_ids = input_ids,\n",
    "\t\t\tattention_mask = attention_mask,\n",
    "\t\t\tdecoder_attention_mask = labels_attention_mask,\n",
    "\t\t\tlabels = labels   \n",
    "\t\t)\n",
    "\t\tself.log(\"train_loss\", loss, prog_bar = True, logger = True)\n",
    "\t\treturn loss \n",
    "   \n",
    "\tdef validation_step(self, batch, batch_idx):\n",
    "\t\tinput_ids = batch[\"text_input_ids\"]\n",
    "\t\tattention_mask = batch[\"text_attention_mask\"]\n",
    "\t\tlabels = batch[\"labels\"]\n",
    "\t\tlabels_attention_mask = batch[\"labels_attention_mask\"]\n",
    "\n",
    "\t\tloss, outputs = self( \n",
    "\t\t\tinput_ids = input_ids,\n",
    "\t\t\tattention_mask = attention_mask,\n",
    "\t\t\tdecoder_attention_mask = labels_attention_mask,\n",
    "\t\t\tlabels = labels\n",
    "\t\t)  \n",
    "\t\tself.log(\"val_loss\", loss, prog_bar = True, logger = True)\n",
    "\t\treturn loss \n",
    "\n",
    "\tdef test_step(self, batch, batch_idx): \n",
    "\t\tinput_ids = batch[\"text_input_ids\"]\n",
    "\t\tattention_mask = batch[\"text_attention_mask\"]\n",
    "\t\tlabels = batch[\"labels\"] \n",
    "\t\tlabels_attention_mask = batch[\"labels_attention_mask\"] \n",
    "\n",
    "\t\tloss, outputs = self( \n",
    "\t\t\tinput_ids = input_ids,\n",
    "\t\t\tattention_mask = attention_mask,\n",
    "\t\t\tdecoder_attention_mask = labels_attention_mask,\n",
    "\t\t\tlabels = labels\n",
    "\t\t)\n",
    "\n",
    "\t\tself.log(\"test_loss\", loss, prog_bar = True, logger = True) \n",
    "\t\treturn loss \n",
    "\n",
    "\tdef configure_optimizers(self):\n",
    "\t\treturn AdamW(self.parameters(), lr = 0.0001)"
   ]
  },
  {
   "cell_type": "code",
   "execution_count": 26,
   "metadata": {},
   "outputs": [],
   "source": [
    "model = NewsSummaryModel()\n"
   ]
  },
  {
   "cell_type": "code",
   "execution_count": 27,
   "metadata": {},
   "outputs": [
    {
     "name": "stderr",
     "output_type": "stream",
     "text": [
      "GPU available: True (cuda), used: True\n",
      "TPU available: False, using: 0 TPU cores\n",
      "IPU available: False, using: 0 IPUs\n",
      "HPU available: False, using: 0 HPUs\n"
     ]
    }
   ],
   "source": [
    "trainer = pl.Trainer()"
   ]
  },
  {
   "cell_type": "code",
   "execution_count": 28,
   "metadata": {},
   "outputs": [
    {
     "name": "stderr",
     "output_type": "stream",
     "text": [
      "d:\\NLPandDeeplearning\\final\\.venv\\lib\\site-packages\\pytorch_lightning\\loops\\utilities.py:73: `max_epochs` was not set. Setting it to 1000 epochs. To train without an epoch limit, set `max_epochs=-1`.\n",
      "LOCAL_RANK: 0 - CUDA_VISIBLE_DEVICES: [0]\n",
      "d:\\NLPandDeeplearning\\final\\.venv\\lib\\site-packages\\transformers\\optimization.py:411: FutureWarning: This implementation of AdamW is deprecated and will be removed in a future version. Use the PyTorch implementation torch.optim.AdamW instead, or set `no_deprecation_warning=True` to disable this warning\n",
      "  warnings.warn(\n",
      "\n",
      "  | Name  | Type         | Params\n",
      "---------------------------------------\n",
      "0 | model | RobertaModel | 134 M \n",
      "---------------------------------------\n",
      "134 M     Trainable params\n",
      "0         Non-trainable params\n",
      "134 M     Total params\n",
      "539.993   Total estimated model params size (MB)\n"
     ]
    },
    {
     "name": "stdout",
     "output_type": "stream",
     "text": [
      "Sanity Checking: |          | 0/? [00:00<?, ?it/s]"
     ]
    },
    {
     "name": "stderr",
     "output_type": "stream",
     "text": [
      "d:\\NLPandDeeplearning\\final\\.venv\\lib\\site-packages\\pytorch_lightning\\trainer\\connectors\\data_connector.py:492: Your `val_dataloader`'s sampler has shuffling enabled, it is strongly recommended that you turn shuffling off for val/test dataloaders.\n",
      "d:\\NLPandDeeplearning\\final\\.venv\\lib\\site-packages\\pytorch_lightning\\trainer\\connectors\\data_connector.py:436: Consider setting `persistent_workers=True` in 'val_dataloader' to speed up the dataloader worker initialization.\n"
     ]
    }
   ],
   "source": [
    "trainer.fit(model, data_module)"
   ]
  },
  {
   "cell_type": "code",
   "execution_count": 88,
   "metadata": {},
   "outputs": [
    {
     "data": {
      "text/plain": [
       "NewsSummaryModel(\n",
       "  (model): RobertaModel(\n",
       "    (embeddings): RobertaEmbeddings(\n",
       "      (word_embeddings): Embedding(64001, 768, padding_idx=1)\n",
       "      (position_embeddings): Embedding(258, 768, padding_idx=1)\n",
       "      (token_type_embeddings): Embedding(1, 768)\n",
       "      (LayerNorm): LayerNorm((768,), eps=1e-05, elementwise_affine=True)\n",
       "      (dropout): Dropout(p=0.1, inplace=False)\n",
       "    )\n",
       "    (encoder): RobertaEncoder(\n",
       "      (layer): ModuleList(\n",
       "        (0-11): 12 x RobertaLayer(\n",
       "          (attention): RobertaAttention(\n",
       "            (self): RobertaSelfAttention(\n",
       "              (query): Linear(in_features=768, out_features=768, bias=True)\n",
       "              (key): Linear(in_features=768, out_features=768, bias=True)\n",
       "              (value): Linear(in_features=768, out_features=768, bias=True)\n",
       "              (dropout): Dropout(p=0.1, inplace=False)\n",
       "            )\n",
       "            (output): RobertaSelfOutput(\n",
       "              (dense): Linear(in_features=768, out_features=768, bias=True)\n",
       "              (LayerNorm): LayerNorm((768,), eps=1e-05, elementwise_affine=True)\n",
       "              (dropout): Dropout(p=0.1, inplace=False)\n",
       "            )\n",
       "          )\n",
       "          (intermediate): RobertaIntermediate(\n",
       "            (dense): Linear(in_features=768, out_features=3072, bias=True)\n",
       "            (intermediate_act_fn): GELUActivation()\n",
       "          )\n",
       "          (output): RobertaOutput(\n",
       "            (dense): Linear(in_features=3072, out_features=768, bias=True)\n",
       "            (LayerNorm): LayerNorm((768,), eps=1e-05, elementwise_affine=True)\n",
       "            (dropout): Dropout(p=0.1, inplace=False)\n",
       "          )\n",
       "        )\n",
       "      )\n",
       "    )\n",
       "    (pooler): RobertaPooler(\n",
       "      (dense): Linear(in_features=768, out_features=768, bias=True)\n",
       "      (activation): Tanh()\n",
       "    )\n",
       "  )\n",
       ")"
      ]
     },
     "execution_count": 88,
     "metadata": {},
     "output_type": "execute_result"
    }
   ],
   "source": [
    "model"
   ]
  },
  {
   "cell_type": "code",
   "execution_count": 89,
   "metadata": {},
   "outputs": [],
   "source": [
    "checkpoint_callback = ModelCheckpoint(\n",
    "        dirpath =\"checkpoints\",\n",
    "        filename = \"best-checkpoint\",\n",
    "        save_top_k=1,\n",
    "        verbose=True,\n",
    "        monitor='val_loss',\n",
    "        mode='min'\n",
    "    )\n",
    "logger = TensorBoardLogger(\"lightning_logs\", name = \"news-summary\")"
   ]
  },
  {
   "cell_type": "code",
   "execution_count": 90,
   "metadata": {},
   "outputs": [
    {
     "name": "stderr",
     "output_type": "stream",
     "text": [
      "GPU available: True (cuda), used: True\n",
      "TPU available: False, using: 0 TPU cores\n",
      "IPU available: False, using: 0 IPUs\n",
      "HPU available: False, using: 0 HPUs\n"
     ]
    }
   ],
   "source": [
    "trainer = pl.Trainer(\n",
    "    logger = logger,\n",
    "    callbacks = checkpoint_callback,\n",
    "    max_epochs = num_epochs\n",
    ")"
   ]
  },
  {
   "cell_type": "code",
   "execution_count": 91,
   "metadata": {},
   "outputs": [
    {
     "name": "stderr",
     "output_type": "stream",
     "text": [
      "Missing logger folder: lightning_logs\\news-summary\n",
      "LOCAL_RANK: 0 - CUDA_VISIBLE_DEVICES: [0]\n",
      "d:\\NLPandDeeplearning\\final\\.venv\\lib\\site-packages\\transformers\\optimization.py:411: FutureWarning: This implementation of AdamW is deprecated and will be removed in a future version. Use the PyTorch implementation torch.optim.AdamW instead, or set `no_deprecation_warning=True` to disable this warning\n",
      "  warnings.warn(\n",
      "\n",
      "  | Name  | Type         | Params\n",
      "---------------------------------------\n",
      "0 | model | RobertaModel | 134 M \n",
      "---------------------------------------\n",
      "134 M     Trainable params\n",
      "0         Non-trainable params\n",
      "134 M     Total params\n",
      "539.993   Total estimated model params size (MB)\n"
     ]
    },
    {
     "name": "stdout",
     "output_type": "stream",
     "text": [
      "Sanity Checking: |          | 0/? [00:00<?, ?it/s]"
     ]
    },
    {
     "name": "stderr",
     "output_type": "stream",
     "text": [
      "d:\\NLPandDeeplearning\\final\\.venv\\lib\\site-packages\\pytorch_lightning\\trainer\\connectors\\data_connector.py:492: Your `val_dataloader`'s sampler has shuffling enabled, it is strongly recommended that you turn shuffling off for val/test dataloaders.\n",
      "d:\\NLPandDeeplearning\\final\\.venv\\lib\\site-packages\\pytorch_lightning\\trainer\\connectors\\data_connector.py:436: Consider setting `persistent_workers=True` in 'val_dataloader' to speed up the dataloader worker initialization.\n"
     ]
    }
   ],
   "source": [
    "trainer.fit(model, data_module)\n"
   ]
  },
  {
   "cell_type": "code",
   "execution_count": null,
   "metadata": {},
   "outputs": [],
   "source": []
  },
  {
   "cell_type": "code",
   "execution_count": 3,
   "metadata": {},
   "outputs": [],
   "source": [
    "class TransformerEncoder(nn.Module):\n",
    "    def __init__(self, input_dim, d_model, nhead, num_layers):\n",
    "        super(TransformerEncoder).__init__()\n",
    "        self.embedding = nn.Embedding(input_dim, d_model)\n",
    "        self.transformer_encoder = TransformerDecoder(\n",
    "            TransformerDecoderLayer(d_model, nhead),\n",
    "            num_layers\n",
    "        )\n",
    "    \n",
    "    def forward(self, src):\n",
    "        src = self.embedding(src)\n",
    "        output = self.transformer_encoder(src)\n",
    "        return output\n",
    "    \n",
    "class TransformerDecoder(nn.Module):\n",
    "    def __init__(self, output_dim, d_model, nhead, num_layers):\n",
    "        super(TransformerDecoder, self).__init__()\n",
    "        self.embedding = nn.Embedding(output_dim, d_model)\n",
    "        self.transformer_decoder = TransformerDecoder(\n",
    "            TransformerDecoderLayer(d_model, nhead),\n",
    "            num_layers\n",
    "        )\n",
    "\n",
    "    def forward(self, tgt, memory):\n",
    "        tgt = self.embedding(tgt)\n",
    "        output = self.transformer_decoder(tgt, memory)\n",
    "        return output\n"
   ]
  }
 ],
 "metadata": {
  "kernelspec": {
   "display_name": ".venv",
   "language": "python",
   "name": "python3"
  },
  "language_info": {
   "codemirror_mode": {
    "name": "ipython",
    "version": 3
   },
   "file_extension": ".py",
   "mimetype": "text/x-python",
   "name": "python",
   "nbconvert_exporter": "python",
   "pygments_lexer": "ipython3",
   "version": "3.9.13"
  }
 },
 "nbformat": 4,
 "nbformat_minor": 2
}
