{
 "cells": [
  {
   "cell_type": "code",
   "execution_count": 1,
   "metadata": {},
   "outputs": [],
   "source": [
    "import torch\n",
    "import torch.nn as nn\n",
    "import torch.optim as optim\n",
    "from torch.nn import Transformer, TransformerEncoder, TransformerEncoderLayer, TransformerDecoder, TransformerDecoderLayer"
   ]
  },
  {
   "cell_type": "code",
   "execution_count": 3,
   "metadata": {},
   "outputs": [],
   "source": [
    "class TransformerEncoder(nn.Module):\n",
    "    def __init__(self, input_dim, d_model, nhead, num_layers):\n",
    "        super(TransformerEncoder).__init__()\n",
    "        self.embedding = nn.Embedding(input_dim, d_model)\n",
    "        self.transformer_encoder = TransformerDecoder(\n",
    "            TransformerDecoderLayer(d_model, nhead),\n",
    "            num_layers\n",
    "        )\n",
    "    \n",
    "    def forward(self, src):\n",
    "        src = self.embedding(src)\n",
    "        output = self.transformer_encoder(src)\n",
    "        return output\n",
    "    \n",
    "class TransformerDecoder(nn.Module):\n",
    "    def __init__(self, output_dim, d_model, nhead, num_layers):\n",
    "        super(TransformerDecoder, self).__init__()\n",
    "        self.embedding = nn.Embedding(output_dim, d_model)\n",
    "        self.transformer_decoder = TransformerDecoder(\n",
    "            TransformerDecoderLayer(d_model, nhead),\n",
    "            num_layers\n",
    "        )\n",
    "\n",
    "    def forward(self, tgt, memory):\n",
    "        tgt = self.embedding(tgt)\n",
    "        output = self.transformer_decoder(tgt, memory)\n",
    "        return output\n"
   ]
  }
 ],
 "metadata": {
  "kernelspec": {
   "display_name": ".venv",
   "language": "python",
   "name": "python3"
  },
  "language_info": {
   "codemirror_mode": {
    "name": "ipython",
    "version": 3
   },
   "file_extension": ".py",
   "mimetype": "text/x-python",
   "name": "python",
   "nbconvert_exporter": "python",
   "pygments_lexer": "ipython3",
   "version": "3.9.13"
  }
 },
 "nbformat": 4,
 "nbformat_minor": 2
}
