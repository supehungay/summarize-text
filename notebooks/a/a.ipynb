{
 "cells": [
  {
   "cell_type": "code",
   "execution_count": 11,
   "metadata": {},
   "outputs": [],
   "source": [
    "import os\n",
    "\n",
    "# Lấy đường dẫn đến thư mục hiện tại\n",
    "current_directory = os.getcwd()\n",
    "current_directory\n",
    "# # Lùi lại 2 thư mục\n",
    "parent_directory = os.path.abspath(os.path.join(current_directory, os.pardir))\n",
    "# grandparent_directory = os.path.abspath(os.path.join(parent_directory, os.pardir))\n",
    "\n",
    "# # In đường dẫn của thư mục cha (parent directory) và thư mục ông (grandparent directory)\n",
    "# print(\"Parent Directory:\", parent_directory)\n",
    "# print(\"Grandparent Directory:\", grandparent_directory)\n"
   ]
  },
  {
   "cell_type": "code",
   "execution_count": 15,
   "metadata": {},
   "outputs": [
    {
     "data": {
      "text/plain": [
       "'d:\\\\NLPandDeeplearning\\\\final\\\\notebooks\\\\..'"
      ]
     },
     "execution_count": 15,
     "metadata": {},
     "output_type": "execute_result"
    }
   ],
   "source": [
    "os.path.join(current_directory, os.pardir)"
   ]
  }
 ],
 "metadata": {
  "kernelspec": {
   "display_name": ".venv",
   "language": "python",
   "name": "python3"
  },
  "language_info": {
   "codemirror_mode": {
    "name": "ipython",
    "version": 3
   },
   "file_extension": ".py",
   "mimetype": "text/x-python",
   "name": "python",
   "nbconvert_exporter": "python",
   "pygments_lexer": "ipython3",
   "version": "3.9.13"
  }
 },
 "nbformat": 4,
 "nbformat_minor": 2
}
